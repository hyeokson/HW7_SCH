{
 "cells": [
  {
   "cell_type": "code",
   "execution_count": 7,
   "id": "0d7271e1",
   "metadata": {},
   "outputs": [
    {
     "name": "stdout",
     "output_type": "stream",
     "text": [
      "Eigenvalues : [-0.37228132  5.37228132] \n",
      "\n",
      "Eigenvectors : \n",
      " [[-0.82456484 -0.41597356]\n",
      " [ 0.56576746 -0.90937671]] \n",
      "\n",
      "Determinant : -2.0000000000000004 \n",
      "\n",
      "Cross product : [-3  6 -3] \n",
      "\n",
      "Solution : \n",
      " [[-1.]\n",
      " [-4.]\n",
      " [ 3.]]\n"
     ]
    }
   ],
   "source": [
    "import numpy as np\n",
    "\n",
    "def main() :\n",
    "    a=np.arange(1,5).reshape(2,2)\n",
    "    eig_val, eig_vec = np.linalg.eig(a)\n",
    "    det=np.linalg.det(a)\n",
    "    print(\"Eigenvalues :\", eig_val, '\\n')\n",
    "    print(\"Eigenvectors :\",'\\n', eig_vec, '\\n')\n",
    "    print(\"Determinant :\", det, '\\n')\n",
    "\n",
    "    vector1=np.array([1,2,3])\n",
    "    vector2=np.array([4,5,6])\n",
    "    cross_prod=np.cross(vector1, vector2)\n",
    "    print(\"Cross product :\",cross_prod, '\\n')\n",
    "    \n",
    "    A=np.array([[1, 2, -2], [2, 1, -5], [1, -4, 1]])\n",
    "    b=np.array([[-15], [-21], [18]])\n",
    "    x=np.linalg.solve(A,b)\n",
    "    print(\"Solution :\",'\\n',x)\n",
    "\n",
    "    \n",
    "if __name__==\"__main__\" :\n",
    "    main()"
   ]
  },
  {
   "cell_type": "code",
   "execution_count": null,
   "id": "f284ccf9",
   "metadata": {},
   "outputs": [],
   "source": []
  }
 ],
 "metadata": {
  "kernelspec": {
   "display_name": "Python 3 (ipykernel)",
   "language": "python",
   "name": "python3"
  },
  "language_info": {
   "codemirror_mode": {
    "name": "ipython",
    "version": 3
   },
   "file_extension": ".py",
   "mimetype": "text/x-python",
   "name": "python",
   "nbconvert_exporter": "python",
   "pygments_lexer": "ipython3",
   "version": "3.9.13"
  }
 },
 "nbformat": 4,
 "nbformat_minor": 5
}
