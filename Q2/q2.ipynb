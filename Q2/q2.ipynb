{
 "cells": [
  {
   "cell_type": "code",
   "execution_count": 3,
   "id": "ba69fb94",
   "metadata": {},
   "outputs": [
    {
     "name": "stdout",
     "output_type": "stream",
     "text": [
      "doc1 = 0.58 \n",
      "\n",
      "doc2 = 0.87 \n",
      "\n",
      "doc3 = 0.67 \n",
      "\n"
     ]
    }
   ],
   "source": [
    "import numpy as np\n",
    "from numpy.linalg import norm\n",
    "\n",
    "def main() :\n",
    "    Docs=np.array([[1,1,0,1,0,1], [1,1,1,0,1,0], [1,1,0,1,0,0]])\n",
    "    Query=[1,1,0,0,1,0]\n",
    "    \n",
    "    doc1=np.dot(Docs[0], Query)/(norm(Docs[0])*norm(Query))\n",
    "    doc2=np.dot(Docs[1], Query)/(norm(Docs[1])*norm(Query))\n",
    "    doc3=np.dot(Docs[2], Query)/(norm(Docs[2])*norm(Query))\n",
    "    \n",
    "    print(\"doc1 = {0:.2f}\".format(doc1), '\\n')\n",
    "    print(\"doc2 = {0:.2f}\".format(doc2), '\\n')\n",
    "    print(\"doc3 = {0:.2f}\".format(doc3), '\\n')\n",
    "    \n",
    "    \n",
    "if __name__==\"__main__\" :\n",
    "    main()"
   ]
  },
  {
   "cell_type": "code",
   "execution_count": null,
   "id": "8dec4531",
   "metadata": {},
   "outputs": [],
   "source": []
  }
 ],
 "metadata": {
  "kernelspec": {
   "display_name": "Python 3 (ipykernel)",
   "language": "python",
   "name": "python3"
  },
  "language_info": {
   "codemirror_mode": {
    "name": "ipython",
    "version": 3
   },
   "file_extension": ".py",
   "mimetype": "text/x-python",
   "name": "python",
   "nbconvert_exporter": "python",
   "pygments_lexer": "ipython3",
   "version": "3.9.13"
  }
 },
 "nbformat": 4,
 "nbformat_minor": 5
}
